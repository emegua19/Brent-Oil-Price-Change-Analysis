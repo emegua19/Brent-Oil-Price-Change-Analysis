{
 "cells": [
  {
   "cell_type": "code",
   "execution_count": null,
   "id": "93f02e3a",
   "metadata": {
    "vscode": {
     "languageId": "plaintext"
    }
   },
   "outputs": [],
   "source": [
    "# 📌 Brent Oil Change Point Detection (Local Jupyter Version)\n",
    "# Author: yitbarek geletaw\n",
    "# Description: Detects structural changes in Brent oil prices and links them to historical events.\n",
    "\n",
    "# --- SETUP ---\n",
    "\n",
    "import os\n",
    "os.environ[\"MKL_THREADING_LAYER\"] = \"GNU\"  # Prevent MKL issues\n",
    "\n",
    "import pymc as pm\n",
    "import arviz as az\n",
    "import numpy as np\n",
    "import pandas as pd\n",
    "import matplotlib.pyplot as plt\n",
    "\n",
    "# --- CONFIGURE PATHS ---\n",
    "\n",
    "data_path = \"data/processed/brent_oil_log_returns.csv\"\n",
    "events_path = \"data/processed/events.csv\"\n",
    "output_dir = \"results\"\n",
    "\n",
    "os.makedirs(os.path.join(output_dir, 'figures', 'trace_plots'), exist_ok=True)"
   ]
  },
  {
   "cell_type": "code",
   "execution_count": null,
   "id": "eaed9a58",
   "metadata": {
    "vscode": {
     "languageId": "plaintext"
    }
   },
   "outputs": [],
   "source": [
    "\n",
    "# --- LOAD DATA ---\n",
    "\n",
    "df = pd.read_csv(data_path, parse_dates=[\"Date\"])\n",
    "df.dropna(subset=[\"LogReturn\"], inplace=True)\n",
    "log_returns = df[\"LogReturn\"]\n",
    "dates = df[\"Date\"]\n",
    "events_df = pd.read_csv(events_path, parse_dates=[\"Date\"])"
   ]
  },
  {
   "cell_type": "code",
   "execution_count": null,
   "id": "ce1edf39",
   "metadata": {
    "vscode": {
     "languageId": "r"
    }
   },
   "outputs": [],
   "source": [
    "# --- RUN MODEL ---\n",
    "\n",
    "model, trace = run_change_point_model(log_returns, dates, num_change_points=3)\n",
    "\n",
    "# --- POSTERIOR SUMMARY ---\n",
    "\n",
    "summary = az.summary(trace)\n",
    "summary.to_csv(os.path.join(output_dir, 'posterior_summary.csv'))\n",
    "\n",
    "# --- TRACE PLOT ---\n",
    "\n",
    "az.plot_trace(trace)\n",
    "plt.tight_layout()\n",
    "plt.savefig(os.path.join(output_dir, 'figures', 'trace_plots', 'trace_plot.png'), dpi=300)\n",
    "plt.show()"
   ]
  },
  {
   "cell_type": "code",
   "execution_count": null,
   "id": "f84fe0a9",
   "metadata": {
    "vscode": {
     "languageId": "plaintext"
    }
   },
   "outputs": [],
   "source": [
    "# --- MODEL FUNCTION ---\n",
    "\n",
    "def run_change_point_model(data, dates, num_change_points=3):\n",
    "    n = len(data)\n",
    "    data_std = np.std(data)\n",
    "    idx = np.arange(n)\n",
    "\n",
    "    with pm.Model() as model:\n",
    "        if num_change_points == 3:\n",
    "            tau_1 = pm.DiscreteUniform(\"tau_1\", lower=0, upper=n//3)\n",
    "            tau_2 = pm.DiscreteUniform(\"tau_2\", lower=n//3, upper=2*n//3)\n",
    "            tau_3 = pm.DiscreteUniform(\"tau_3\", lower=2*n//3, upper=n-1)\n",
    "\n",
    "            mu_1 = pm.Normal(\"mu_1\", mu=0, sigma=data_std / 10)\n",
    "            mu_2 = pm.Normal(\"mu_2\", mu=0, sigma=data_std / 10)\n",
    "            mu_3 = pm.Normal(\"mu_3\", mu=0, sigma=data_std / 10)\n",
    "            mu_4 = pm.Normal(\"mu_4\", mu=0, sigma=data_std / 10)\n",
    "\n",
    "            sigma_1 = pm.HalfNormal(\"sigma_1\", sigma=data_std / 2)\n",
    "            sigma_2 = pm.HalfNormal(\"sigma_2\", sigma=data_std / 2)\n",
    "            sigma_3 = pm.HalfNormal(\"sigma_3\", sigma=data_std / 2)\n",
    "            sigma_4 = pm.HalfNormal(\"sigma_4\", sigma=data_std / 2)\n",
    "\n",
    "            mu = pm.math.switch(tau_1 >= idx, mu_1,\n",
    "                  pm.math.switch(tau_2 >= idx, mu_2,\n",
    "                  pm.math.switch(tau_3 >= idx, mu_3, mu_4)))\n",
    "            \n",
    "            sigma = pm.math.switch(tau_1 >= idx, sigma_1,\n",
    "                     pm.math.switch(tau_2 >= idx, sigma_2,\n",
    "                     pm.math.switch(tau_3 >= idx, sigma_3, sigma_4)))\n",
    "        else:\n",
    "            tau = pm.DiscreteUniform(\"tau\", lower=0, upper=n-1)\n",
    "            mu_1 = pm.Normal(\"mu_1\", mu=0, sigma=data_std / 10)\n",
    "            mu_2 = pm.Normal(\"mu_2\", mu=0, sigma=data_std / 10)\n",
    "            sigma_1 = pm.HalfNormal(\"sigma_1\", sigma=data_std / 2)\n",
    "            sigma_2 = pm.HalfNormal(\"sigma_2\", sigma=data_std / 2)\n",
    "\n",
    "            mu = pm.math.switch(tau >= idx, mu_1, mu_2)\n",
    "            sigma = pm.math.switch(tau >= idx, sigma_1, sigma_2)\n",
    "\n",
    "        returns = pm.Normal(\"returns\", mu=mu, sigma=sigma, observed=data)\n",
    "        trace = pm.sample(10000, tune=5000, chains=4, random_seed=42, return_inferencedata=True)\n",
    "    \n",
    "    return model, trace"
   ]
  },
  {
   "cell_type": "code",
   "execution_count": null,
   "id": "045eace2",
   "metadata": {
    "vscode": {
     "languageId": "plaintext"
    }
   },
   "outputs": [],
   "source": [
    "# --- IDENTIFY CHANGE POINTS ---\n",
    "\n",
    "tau_vars = ['tau_1', 'tau_2', 'tau_3']\n",
    "change_points = []\n",
    "for var in tau_vars:\n",
    "    if var in trace.posterior:\n",
    "        tau_vals = trace.posterior[var].values.flatten().astype(int)\n",
    "        tau_mode = np.bincount(tau_vals).argmax()\n",
    "        change_date = dates.iloc[tau_mode]\n",
    "        change_points.append(change_date)\n",
    "\n",
    "# --- PLOT LOG RETURNS WITH CHANGE POINTS ---\n",
    "\n",
    "plt.figure(figsize=(12, 6))\n",
    "plt.plot(dates, log_returns, label='Log Returns', alpha=0.7)\n",
    "for cp in change_points:\n",
    "    plt.axvline(cp, color='red', linestyle='--', label=f'Change Point: {cp.strftime(\"%Y-%m-%d\")}')\n",
    "plt.title(\"Brent Oil Log Returns with Change Points\")\n",
    "plt.xlabel(\"Date\")\n",
    "plt.ylabel(\"Log Return\")\n",
    "plt.legend()\n",
    "plt.tight_layout()\n",
    "plt.savefig(os.path.join(output_dir, 'figures', 'log_returns_change_point.png'), dpi=300)\n",
    "plt.show()\n",
    "\n",
    "# --- MATCH CHANGE POINTS WITH EVENTS ---\n",
    "\n",
    "matched_events = []\n",
    "for cp_date in change_points:\n",
    "    events_df['Date_Diff'] = abs(events_df['Date'] - cp_date)\n",
    "    closest_event = events_df.loc[events_df['Date_Diff'].idxmin()]\n",
    "    matched_events.append({\n",
    "        \"Change_Point_Date\": cp_date,\n",
    "        \"Closest_Event_Date\": closest_event[\"Date\"],\n",
    "        \"Description\": closest_event[\"Event_Description\"],\n",
    "        \"Type\": closest_event[\"Event_Type\"],\n",
    "        \"Date_Diff_Days\": closest_event[\"Date_Diff\"].days\n",
    "    })\n",
    "\n",
    "matched_df = pd.DataFrame(matched_events)\n",
    "matched_df.to_csv(os.path.join(output_dir, \"matched_events.csv\"), index=False)\n",
    "matched_df"
   ]
  }
 ],
 "metadata": {
  "language_info": {
   "name": "python"
  }
 },
 "nbformat": 4,
 "nbformat_minor": 5
}
